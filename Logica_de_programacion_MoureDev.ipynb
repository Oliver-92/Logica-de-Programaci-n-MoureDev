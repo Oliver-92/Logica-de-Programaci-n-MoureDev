{
  "cells": [
    {
      "cell_type": "markdown",
      "metadata": {
        "id": "hqnVj5PLnkXT"
      },
      "source": [
        "# Variables"
      ]
    },
    {
      "cell_type": "code",
      "execution_count": null,
      "metadata": {
        "colab": {
          "base_uri": "https://localhost:8080/"
        },
        "id": "Mqk1xsVXm2mo",
        "outputId": "15634370-5dbc-4fdd-b1ce-50060e272978"
      },
      "outputs": [
        {
          "name": "stdout",
          "output_type": "stream",
          "text": [
            "<class 'int'>\n",
            "<class 'float'>\n",
            "<class 'str'>\n",
            "<class 'bool'>\n"
          ]
        }
      ],
      "source": [
        "# Tipos de datos primitivos\n",
        "my_int = 1\n",
        "my_float = 1.5\n",
        "my_str = \"cadena de texto\"\n",
        "my_bool = True\n",
        "\n",
        "lista = (my_int, my_float, my_str, my_bool)\n",
        "\n",
        "for i in lista:\n",
        "  print(type(i))"
      ]
    },
    {
      "cell_type": "code",
      "execution_count": null,
      "metadata": {
        "colab": {
          "base_uri": "https://localhost:8080/"
        },
        "id": "g4QJSW3omaEV",
        "outputId": "7d47e4b8-df2e-4089-e11d-069bfce14dc4"
      },
      "outputs": [
        {
          "name": "stdout",
          "output_type": "stream",
          "text": [
            "<class 'str'>\n"
          ]
        }
      ],
      "source": [
        "my_str :str = 'Esta es otra forma de definir el tipo de dato'\n",
        "print(type(my_str))"
      ]
    },
    {
      "cell_type": "markdown",
      "metadata": {
        "id": "k0c7L0wVnpmQ"
      },
      "source": [
        "# Operadores"
      ]
    },
    {
      "cell_type": "code",
      "execution_count": null,
      "metadata": {
        "colab": {
          "base_uri": "https://localhost:8080/"
        },
        "id": "uBdAd1MhnsXz",
        "outputId": "923ca27b-c39c-4719-8f62-b13f96d9cda1"
      },
      "outputs": [
        {
          "name": "stdout",
          "output_type": "stream",
          "text": [
            "Suma: 10 + 3 = 13\n",
            "Resta: 10 - 3 = 7\n",
            "Multiplicación: 10 * 3 = 30\n",
            "División: 10 / 3 = 3.3333333333333335\n",
            "Módulo: 10 % 3 = 1\n",
            "División entera: 10 // 3 = 3\n",
            "Exponente: 10 ** 3 = 1000\n"
          ]
        }
      ],
      "source": [
        "# Operadores aritméticos\n",
        "print(f'Suma: 10 + 3 = {10 + 3}')\n",
        "print(f'Resta: 10 - 3 = {10 - 3}')\n",
        "print(f'Multiplicación: 10 * 3 = {10 * 3}')\n",
        "print(f'División: 10 / 3 = {10 / 3}')\n",
        "print(f'Módulo: 10 % 3 = {10 % 3}')\n",
        "print(f'División entera: 10 // 3 = {10 // 3}')\n",
        "print(f'Exponente: 10 ** 3 = {10 ** 3}')"
      ]
    },
    {
      "cell_type": "code",
      "execution_count": null,
      "metadata": {
        "colab": {
          "base_uri": "https://localhost:8080/"
        },
        "id": "on1XPtyNogd5",
        "outputId": "32bedeb2-ca75-4fbc-8ec8-302fdcac2a65"
      },
      "outputs": [
        {
          "name": "stdout",
          "output_type": "stream",
          "text": [
            "Igualdad: 10 == 3 = False\n",
            "Desigualdad: 10 != 3 = True\n",
            "Mayor que: 10 > 3 = True\n",
            "Menor que: 10 < 3 = False\n",
            "Mayor o igual que: 10 >= 3 = True\n",
            "Menor o igual que: 10 <= 3 = False\n"
          ]
        }
      ],
      "source": [
        "# Operadores de comparación (no solo se pueden usar con números)\n",
        "print(f'Igualdad: 10 == 3 = {10 == 3}')\n",
        "print(f'Desigualdad: 10 != 3 = {10 != 3}')\n",
        "print(f'Mayor que: 10 > 3 = {10 > 3}')\n",
        "print(f'Menor que: 10 < 3 = {10 < 3}')\n",
        "print(f'Mayor o igual que: 10 >= 3 = {10 >= 3}')\n",
        "print(f'Menor o igual que: 10 <= 3 = {10 <= 3}')"
      ]
    },
    {
      "cell_type": "code",
      "execution_count": null,
      "metadata": {
        "colab": {
          "base_uri": "https://localhost:8080/"
        },
        "id": "ocyFurYaq8Hy",
        "outputId": "0c1d107b-7eff-4775-d537-c664825af658"
      },
      "outputs": [
        {
          "name": "stdout",
          "output_type": "stream",
          "text": [
            "AND &&: 10 + 3 == 13 and 5 - 1 == 4 es True\n",
            "OR ||: 10 + 3 == 14 or 5 - 1 == 4 es True\n",
            "NOT !: not 10 + 3 == 14 es True\n"
          ]
        }
      ],
      "source": [
        "# Operadores lógicos\n",
        "print(f'AND &&: 10 + 3 == 13 and 5 - 1 == 4 es {10 + 3 == 13 and 5 - 1 == 4}')\n",
        "print(f'OR ||: 10 + 3 == 14 or 5 - 1 == 4 es {10 + 3 == 14 or 5 - 1 == 4}')\n",
        "print(f'NOT !: not 10 + 3 == 14 es {not 10 + 3 == 14}')"
      ]
    },
    {
      "cell_type": "code",
      "execution_count": null,
      "metadata": {
        "colab": {
          "base_uri": "https://localhost:8080/"
        },
        "id": "EEEcntURFMbE",
        "outputId": "158d5165-6a36-47e8-e523-190217d7a7be"
      },
      "outputs": [
        {
          "name": "stdout",
          "output_type": "stream",
          "text": [
            "my_number is my_new_number es False\n",
            "my_number is not my_new_number es True\n"
          ]
        }
      ],
      "source": [
        "# Operadores de asignación\n",
        "my_number = 11 # asignación '='\n",
        "my_number += 1 # suma y asignación\n",
        "my_new_number = 3\n",
        "'''\n",
        "Así con todos los operadores artiméticos:\n",
        "-=\n",
        "*=\n",
        "/=\n",
        "%=\n",
        "**=\n",
        "//=\n",
        "'''\n",
        "\n",
        "# Operador de identidad\n",
        "# is\n",
        "# is not\n",
        "\n",
        "print(f'my_number is my_new_number es {my_number is my_new_number}')\n",
        "print(f'my_number is not my_new_number es {my_number is not my_new_number}')"
      ]
    },
    {
      "cell_type": "code",
      "execution_count": null,
      "metadata": {
        "colab": {
          "base_uri": "https://localhost:8080/"
        },
        "id": "RPgw89pWHKRo",
        "outputId": "5c4bbeae-c455-47db-a9f7-de6568d179c1"
      },
      "outputs": [
        {
          "name": "stdout",
          "output_type": "stream",
          "text": [
            "'u' in 'mouredev' = True\n",
            "'u' in not 'mouredev' = False\n"
          ]
        }
      ],
      "source": [
        "# Operadores de pertenencia (in - not in)\n",
        "print(f\"'u' in 'mouredev' = {'u' in 'mouredev'}\")\n",
        "print(f\"'u' in not 'mouredev' = {'u' not in'mouredev'}\")"
      ]
    },
    {
      "cell_type": "code",
      "execution_count": null,
      "metadata": {
        "colab": {
          "base_uri": "https://localhost:8080/"
        },
        "id": "SbW9bK9dHhKO",
        "outputId": "035d11ec-b690-4126-eda8-b649eb6a559e"
      },
      "outputs": [
        {
          "name": "stdout",
          "output_type": "stream",
          "text": [
            "AND: 10 & 3 = 2\n",
            "OR: 10 | 3 = 11\n",
            "XOR: 10 ^ 3 = 9\n",
            "NOT: ~10= -11\n",
            "Desplazamiento a la derecha: 10 >> 2 = 2\n",
            "Desplazamiento a la izquierda: 10 << 2 = 40\n"
          ]
        }
      ],
      "source": [
        "# Operadores de bit\n",
        "a = 10 # 1010\n",
        "b = 3 # 0011\n",
        "\n",
        "print(f\"AND: 10 & 3 = {10 & 3}\") # 0010\n",
        "print(f\"OR: 10 | 3 = {10 | 3}\") # 1011\n",
        "print(f\"XOR: 10 ^ 3 = {10 ^ 3}\") # 1001\n",
        "print(f\"NOT: ~10= {~10}\")\n",
        "print(f\"Desplazamiento a la derecha: 10 >> 2 = {10 >> 2}\") #0010\n",
        "print(f\"Desplazamiento a la izquierda: 10 << 2 = {10 << 2}\") #101000"
      ]
    },
    {
      "cell_type": "markdown",
      "metadata": {
        "id": "rnsJi1OnJhXd"
      },
      "source": [
        "# Estructuras de control"
      ]
    },
    {
      "cell_type": "code",
      "execution_count": null,
      "metadata": {
        "colab": {
          "base_uri": "https://localhost:8080/"
        },
        "id": "t7PWSFrcJY1I",
        "outputId": "bb70884a-20d4-4301-e4c4-b51079e87edb"
      },
      "outputs": [
        {
          "name": "stdout",
          "output_type": "stream",
          "text": [
            "False\n"
          ]
        }
      ],
      "source": [
        "# IF\n",
        "\n",
        "my_string = \"casa\"\n",
        "if my_string == \"cadena\":\n",
        "  print('True!')\n",
        "elif my_string == \"perro\":\n",
        "  print(\"Guau!\")\n",
        "else:\n",
        "  print('False')\n"
      ]
    },
    {
      "cell_type": "code",
      "execution_count": null,
      "metadata": {
        "id": "0JB-nQu0KI0_"
      },
      "outputs": [],
      "source": [
        "# iterativas\n",
        "\n",
        "for i in range(11):\n",
        "  print(i)\n",
        "\n",
        "x = 0\n",
        "\n",
        "while x <= 10:\n",
        "  print(x)\n",
        "  x += 1"
      ]
    },
    {
      "cell_type": "code",
      "execution_count": null,
      "metadata": {
        "colab": {
          "base_uri": "https://localhost:8080/"
        },
        "id": "GKEqOanFKkSo",
        "outputId": "c2e2930a-8526-4787-e44a-04683f830ef2"
      },
      "outputs": [
        {
          "name": "stdout",
          "output_type": "stream",
          "text": [
            "Se ha producio un error\n",
            "Ha finalizado el manejo de excepciones\n"
          ]
        }
      ],
      "source": [
        "# Manejo de excepciones\n",
        "try:\n",
        "  print(10 / 0)\n",
        "except:\n",
        "  print(\"Se ha producio un error\")\n",
        "finally:\n",
        "  print(\"Ha finalizado el manejo de excepciones\")"
      ]
    },
    {
      "cell_type": "code",
      "execution_count": null,
      "metadata": {
        "colab": {
          "base_uri": "https://localhost:8080/"
        },
        "id": "mMZWP2lPLDG4",
        "outputId": "0aed0241-c257-425b-9ffe-a7f732268f4d"
      },
      "outputs": [
        {
          "name": "stdout",
          "output_type": "stream",
          "text": [
            "10\n",
            "14\n",
            "20\n",
            "22\n",
            "26\n",
            "28\n",
            "32\n",
            "34\n",
            "38\n",
            "40\n",
            "44\n",
            "46\n",
            "50\n",
            "52\n"
          ]
        }
      ],
      "source": [
        "# Crea un programa que imprima por consola todos los números entre 10 y 55\n",
        "\n",
        "for number in range(10, 56):\n",
        "  if number % 2 == 0 and number != 16 and number % 3 != 0:\n",
        "    print(number)"
      ]
    },
    {
      "cell_type": "markdown",
      "metadata": {
        "id": "MOVS0YsBL63a"
      },
      "source": [
        "# Funciones y alcance"
      ]
    },
    {
      "cell_type": "code",
      "source": [
        "'''\n",
        "Funciones definidas por el usuario\n",
        "'''\n",
        "\n",
        "# Función simple\n",
        "\n",
        "def greet():\n",
        "  print('Hello World!')\n",
        "\n",
        "greet()"
      ],
      "metadata": {
        "colab": {
          "base_uri": "https://localhost:8080/"
        },
        "id": "qk5hPRNf1qS_",
        "outputId": "503f1d36-3e6b-47cf-8277-8459fb394864"
      },
      "execution_count": null,
      "outputs": [
        {
          "output_type": "stream",
          "name": "stdout",
          "text": [
            "Hello World!\n"
          ]
        }
      ]
    },
    {
      "cell_type": "code",
      "source": [
        "# Función retorno\n",
        "\n",
        "def return_greet():\n",
        "  return 'Hello world!'\n",
        "\n",
        "a = return_greet()\n",
        "print(a)"
      ],
      "metadata": {
        "colab": {
          "base_uri": "https://localhost:8080/"
        },
        "id": "3ivBJWzT2Xqu",
        "outputId": "acec9cb5-e54f-498e-e05d-01bc7f36eeba"
      },
      "execution_count": null,
      "outputs": [
        {
          "output_type": "stream",
          "name": "stdout",
          "text": [
            "Hello world!\n"
          ]
        }
      ]
    },
    {
      "cell_type": "code",
      "source": [
        "# Funciones con argumento\n",
        "\n",
        "def arg_greet(name):\n",
        "  print(f'Hola, {name}!')\n",
        "\n",
        "arg_greet('Carlos')\n",
        "\n",
        "def arg_greet2(name='Jorge'): # Con valor por defecto\n",
        "  print(f'Hola, {name}!')\n",
        "\n",
        "arg_greet2()\n",
        "arg_greet2(name='Luis')\n",
        "\n",
        "# Con argumentos y retornos\n",
        "\n",
        "def return_args_greet(greet, name):\n",
        "  return f'{greet}, {name}'\n",
        "\n",
        "return_args_greet('Que onda', 'Rafa')"
      ],
      "metadata": {
        "colab": {
          "base_uri": "https://localhost:8080/",
          "height": 87
        },
        "id": "8FoHoeNZ2xyV",
        "outputId": "1b95e3bd-e7e5-4f14-a411-259e92bc5739"
      },
      "execution_count": null,
      "outputs": [
        {
          "output_type": "stream",
          "name": "stdout",
          "text": [
            "Hola, Carlos!\n",
            "Hola, Jorge!\n",
            "Hola, Luis!\n"
          ]
        },
        {
          "output_type": "execute_result",
          "data": {
            "text/plain": [
              "'Que onda, Rafa'"
            ],
            "application/vnd.google.colaboratory.intrinsic+json": {
              "type": "string"
            }
          },
          "metadata": {},
          "execution_count": 9
        }
      ]
    },
    {
      "cell_type": "code",
      "source": [
        "# Funciones con numero variable de argumentos\n",
        "\n",
        "def variable_arg_greet(*names):\n",
        "  for name in names:\n",
        "    print(f'Hola, {name}!')\n",
        "\n",
        "variable_arg_greet('Pedro', 'Luis', 'Jorge')"
      ],
      "metadata": {
        "colab": {
          "base_uri": "https://localhost:8080/"
        },
        "id": "JMqI_4Ug4IW-",
        "outputId": "96575df1-d68a-4d1f-8391-543e1faec87d"
      },
      "execution_count": null,
      "outputs": [
        {
          "output_type": "stream",
          "name": "stdout",
          "text": [
            "Hola, Pedro!\n",
            "Hola, Luis!\n",
            "Hola, Jorge!\n"
          ]
        }
      ]
    },
    {
      "cell_type": "code",
      "source": [
        "# Funciones con un número variable de argumenos con palabra clave\n",
        "\n",
        "def variable_key_arg_greet(**names):\n",
        "  for key, value in names.items():\n",
        "    print(f'{key}: {value}')\n",
        "\n",
        "variable_key_arg_greet(lenguaje='Python', name='Luis', edad=36)"
      ],
      "metadata": {
        "colab": {
          "base_uri": "https://localhost:8080/"
        },
        "id": "c-GS4TZC4pav",
        "outputId": "46652c2d-bee7-43b4-8662-24fbbb7d5554"
      },
      "execution_count": null,
      "outputs": [
        {
          "output_type": "stream",
          "name": "stdout",
          "text": [
            "lenguaje: Python\n",
            "name: Luis\n",
            "edad: 36\n"
          ]
        }
      ]
    },
    {
      "cell_type": "code",
      "source": [
        "# Funciones dentro de funciones\n",
        "\n",
        "def outer_function():\n",
        "  def inner_function():\n",
        "    print('Función interna!')\n",
        "  inner_function()\n",
        "\n",
        "outer_function()"
      ],
      "metadata": {
        "colab": {
          "base_uri": "https://localhost:8080/"
        },
        "id": "eV-0OPa350QA",
        "outputId": "214a60db-9480-48ec-9cd8-2efb8f9690db"
      },
      "execution_count": null,
      "outputs": [
        {
          "output_type": "stream",
          "name": "stdout",
          "text": [
            "Función interna!\n"
          ]
        }
      ]
    },
    {
      "cell_type": "code",
      "source": [
        "# Funciones del lenguaje (Algunas, son muchísimas)\n",
        "\n",
        "print() # función que imprime por terminal\n",
        "len('Mauro')\n",
        "type(45)\n",
        "print('Mauro'.upper())"
      ],
      "metadata": {
        "colab": {
          "base_uri": "https://localhost:8080/"
        },
        "id": "jk1V2f5i6Pyt",
        "outputId": "4957572f-8e62-44a5-f161-c37ec1fe9008"
      },
      "execution_count": null,
      "outputs": [
        {
          "output_type": "stream",
          "name": "stdout",
          "text": [
            "\n",
            "MAURO\n"
          ]
        }
      ]
    },
    {
      "cell_type": "code",
      "source": [
        "# Variables locales y globales\n",
        "\n",
        "global_variable = 'Python'\n",
        "\n",
        "def hello_python():\n",
        "  local_var = 'Hola' # Solo se puede acceder dentro de la función, a menos que le agregué 'global'\n",
        "  print(f'{local_var}, {global_variable}')\n",
        "\n",
        "\n",
        "hello_python()"
      ],
      "metadata": {
        "colab": {
          "base_uri": "https://localhost:8080/"
        },
        "id": "JhUu7WdS63MO",
        "outputId": "89339e36-a81e-4c9f-9b21-d3dfb769126d"
      },
      "execution_count": null,
      "outputs": [
        {
          "output_type": "stream",
          "name": "stdout",
          "text": [
            "Hola, Python\n"
          ]
        }
      ]
    },
    {
      "cell_type": "code",
      "source": [
        "def print_number(text1, text2)-> int:\n",
        "  count = 0\n",
        "  for number in range(1,101):\n",
        "    if number % 3 == 0 and number % 5 == 0:\n",
        "      print(text1 + text2)\n",
        "    elif number % 3 == 0:\n",
        "      print(text1)\n",
        "    elif number % 5 == 0:\n",
        "      print(text2)\n",
        "    else:\n",
        "      print(number)\n",
        "      count +=1\n",
        "  return count\n",
        "\n",
        "print_number('Fizz', 'Buzz')"
      ],
      "metadata": {
        "colab": {
          "base_uri": "https://localhost:8080/"
        },
        "id": "sNL4j_9f772f",
        "outputId": "7e819c24-b0a8-474d-f5f2-b43db1cb74e2"
      },
      "execution_count": null,
      "outputs": [
        {
          "output_type": "stream",
          "name": "stdout",
          "text": [
            "1\n",
            "2\n",
            "Fizz\n",
            "4\n",
            "Buzz\n",
            "Fizz\n",
            "7\n",
            "8\n",
            "Fizz\n",
            "Buzz\n",
            "11\n",
            "Fizz\n",
            "13\n",
            "14\n",
            "FizzBuzz\n",
            "16\n",
            "17\n",
            "Fizz\n",
            "19\n",
            "Buzz\n",
            "Fizz\n",
            "22\n",
            "23\n",
            "Fizz\n",
            "Buzz\n",
            "26\n",
            "Fizz\n",
            "28\n",
            "29\n",
            "FizzBuzz\n",
            "31\n",
            "32\n",
            "Fizz\n",
            "34\n",
            "Buzz\n",
            "Fizz\n",
            "37\n",
            "38\n",
            "Fizz\n",
            "Buzz\n",
            "41\n",
            "Fizz\n",
            "43\n",
            "44\n",
            "FizzBuzz\n",
            "46\n",
            "47\n",
            "Fizz\n",
            "49\n",
            "Buzz\n",
            "Fizz\n",
            "52\n",
            "53\n",
            "Fizz\n",
            "Buzz\n",
            "56\n",
            "Fizz\n",
            "58\n",
            "59\n",
            "FizzBuzz\n",
            "61\n",
            "62\n",
            "Fizz\n",
            "64\n",
            "Buzz\n",
            "Fizz\n",
            "67\n",
            "68\n",
            "Fizz\n",
            "Buzz\n",
            "71\n",
            "Fizz\n",
            "73\n",
            "74\n",
            "FizzBuzz\n",
            "76\n",
            "77\n",
            "Fizz\n",
            "79\n",
            "Buzz\n",
            "Fizz\n",
            "82\n",
            "83\n",
            "Fizz\n",
            "Buzz\n",
            "86\n",
            "Fizz\n",
            "88\n",
            "89\n",
            "FizzBuzz\n",
            "91\n",
            "92\n",
            "Fizz\n",
            "94\n",
            "Buzz\n",
            "Fizz\n",
            "97\n",
            "98\n",
            "Fizz\n",
            "Buzz\n"
          ]
        },
        {
          "output_type": "execute_result",
          "data": {
            "text/plain": [
              "53"
            ]
          },
          "metadata": {},
          "execution_count": 28
        }
      ]
    },
    {
      "cell_type": "markdown",
      "source": [
        "# Estructura de Datos"
      ],
      "metadata": {
        "id": "EgnccNT89S9u"
      }
    },
    {
      "cell_type": "code",
      "source": [
        "# Listas (mutables)\n",
        "\n",
        "my_list = ['Pedro', 'Jorge', 'Ramiro']\n",
        "print(my_list)\n",
        "\n",
        "my_list.append('Raul') # inserción\n",
        "print(my_list)\n",
        "\n",
        "my_list.remove('Jorge') # eliminación\n",
        "print(my_list)\n",
        "\n",
        "my_list[1] = 'Daniel' # actualización\n",
        "print(my_list)\n",
        "\n",
        "my_list.sort() # ordenación\n",
        "print(my_list)"
      ],
      "metadata": {
        "colab": {
          "base_uri": "https://localhost:8080/"
        },
        "id": "-pMDzlPj9Vd4",
        "outputId": "df77403b-ed77-4521-933a-5d6d7d273670"
      },
      "execution_count": null,
      "outputs": [
        {
          "output_type": "stream",
          "name": "stdout",
          "text": [
            "['Pedro', 'Jorge', 'Ramiro']\n",
            "['Pedro', 'Jorge', 'Ramiro', 'Raul']\n",
            "['Pedro', 'Ramiro', 'Raul']\n",
            "['Pedro', 'Daniel', 'Raul']\n",
            "['Daniel', 'Pedro', 'Raul']\n"
          ]
        }
      ]
    },
    {
      "cell_type": "code",
      "source": [
        "# Tuplas (inmutables)\n",
        "\n",
        "tupla = ('Pedro', '36', 'pedro@gmail.com')\n",
        "print(tupla)\n",
        "\n",
        "print(tupla[2]) # acceso\n",
        "\n",
        "tupla_ordenada = sorted(tupla) # el sorted devuelve una lista\n",
        "print(type(tupla_ordenada))\n",
        "\n",
        "tupla_ordenada = tuple(sorted(tupla))\n",
        "print(type(tupla_ordenada))\n",
        "print(tupla_ordenada)"
      ],
      "metadata": {
        "colab": {
          "base_uri": "https://localhost:8080/"
        },
        "id": "kU9sGa2yCAwI",
        "outputId": "8c246a7d-733d-43dd-fd1a-2f97ace8e135"
      },
      "execution_count": null,
      "outputs": [
        {
          "output_type": "stream",
          "name": "stdout",
          "text": [
            "('Pedro', '36', 'pedro@gmail.com')\n",
            "pedro@gmail.com\n",
            "<class 'list'>\n",
            "<class 'tuple'>\n",
            "('36', 'Pedro', 'pedro@gmail.com')\n"
          ]
        }
      ]
    },
    {
      "cell_type": "code",
      "source": [
        "# Sets. Estructura desordenada. No se puede acceder con índices\n",
        "# No permite duplicados\n",
        "# Para cambiar un dato, hay que eliminar e insertar\n",
        "\n",
        "my_set = {'Pedro', '36', 'pedro@gmail.com'}\n",
        "print(my_set)\n",
        "print(type(my_set))\n",
        "\n",
        "my_set.add('Empleado') # inserción\n",
        "print(my_set)\n",
        "\n",
        "my_set.remove('Empleado')\n",
        "print(my_set)\n",
        "\n",
        "my_set_ordenado = sorted(my_set) # Lo transforma en una lista\n",
        "# El set no se puede ordenar"
      ],
      "metadata": {
        "colab": {
          "base_uri": "https://localhost:8080/"
        },
        "id": "yVrdIZlFDAbi",
        "outputId": "7fa80f5e-a03d-4121-f3c5-20d4aef4e0a5"
      },
      "execution_count": null,
      "outputs": [
        {
          "output_type": "stream",
          "name": "stdout",
          "text": [
            "{'36', 'Pedro', 'pedro@gmail.com'}\n",
            "<class 'set'>\n",
            "{'Empleado', '36', 'Pedro', 'pedro@gmail.com'}\n",
            "{'36', 'Pedro', 'pedro@gmail.com'}\n"
          ]
        }
      ]
    },
    {
      "cell_type": "code",
      "source": [
        "# Diccionario. Clave (key) y valor (value)\n",
        "# Son ordenados en Python\n",
        "\n",
        "my_dict: dict = {\n",
        "    'nombre':'Pedro',\n",
        "    'edad':'36',\n",
        "    'email':'pedro@gmail.com'\n",
        "    }\n",
        "\n",
        "print(my_dict)\n",
        "\n",
        "my_dict['edad'] = 37 # modificación\n",
        "print(my_dict)\n",
        "\n",
        "my_dict['alias'] = 'Pedrito' # inserción\n",
        "print(my_dict)\n",
        "\n",
        "del my_dict['email'] # eliminación\n",
        "print(my_dict)\n",
        "\n",
        "# my_dict = sorted(my_dict.items()) # devuelve una lista de tuplas\n",
        "# print(my_dict)\n",
        "\n",
        "my_dict = dict(sorted(my_dict.items())) # forma correcta de ordenar\n",
        "print(my_dict)"
      ],
      "metadata": {
        "colab": {
          "base_uri": "https://localhost:8080/"
        },
        "id": "oIYzr5VCEecC",
        "outputId": "895884c2-6cb6-4cfb-a05a-b217c0da7a13"
      },
      "execution_count": null,
      "outputs": [
        {
          "output_type": "stream",
          "name": "stdout",
          "text": [
            "{'nombre': 'Pedro', 'edad': '36', 'email': 'pedro@gmail.com'}\n",
            "{'nombre': 'Pedro', 'edad': 37, 'email': 'pedro@gmail.com'}\n",
            "{'nombre': 'Pedro', 'edad': 37, 'email': 'pedro@gmail.com', 'alias': 'Pedrito'}\n",
            "{'nombre': 'Pedro', 'edad': 37, 'alias': 'Pedrito'}\n",
            "{'alias': 'Pedrito', 'edad': 37, 'nombre': 'Pedro'}\n"
          ]
        }
      ]
    },
    {
      "cell_type": "code",
      "source": [
        "def my_agenda():\n",
        "\n",
        "  agenda = {}\n",
        "\n",
        "  while True:\n",
        "\n",
        "    print(\"1. Buscar contacto\")\n",
        "    print(\"2. Insertar contacto\")\n",
        "    print(\"3. Actualizar contacto\")\n",
        "    print(\"4. Eliminar contacto\")\n",
        "    print(\"5. Salir\")\n",
        "\n",
        "    option = input('\\nSelecciona una opción: ')\n",
        "\n",
        "    match option:\n",
        "      case '1':\n",
        "        name = input(\"Introduce el nombre a buscar: \")\n",
        "        if name in agenda:\n",
        "          print(f'El número de teléfono de {name} es {agenda[name]}')\n",
        "        else:\n",
        "          print(f'El contacto {name} no existe')\n",
        "        pass\n",
        "      case '2':\n",
        "        name = input('Introduce el nombre del contacto: ')\n",
        "        phone = input('Introduce el número del contacto: ')\n",
        "        if phone.isdigit() and len(phone) > 0 and len(phone) <= 11:\n",
        "          agenda[name] = phone\n",
        "        else:\n",
        "          print('Debes introducir un número de teléfono con máximo 11 dígitos')\n",
        "        pass\n",
        "      case '3':\n",
        "        name = input(\"Introduce el nombre del contacto a actualizar: \")\n",
        "        if name in agenda:\n",
        "          phone = input(\"Introduce el teléfono del contacto: \")\n",
        "          if phone.isdigit() and len(phone) > 0 and len(phone) <= 11:\n",
        "            agenda[name] = phone\n",
        "          else:\n",
        "            print(f'El contacto {name} no existe')\n",
        "        pass\n",
        "      case '4':\n",
        "        name = input(\"Introduce el nombre del contacto a eliminar: \")\n",
        "        if name in agenda:\n",
        "          del agenda[name]\n",
        "        else:\n",
        "          print(f'El contacto {name} no existe')\n",
        "        pass\n",
        "      case '5':\n",
        "        print('Saliendo de la agenda')\n",
        "        break\n",
        "      case _:\n",
        "        print(\"Por favor, elige una opción válida\")"
      ],
      "metadata": {
        "id": "rdW_zcotGPRj"
      },
      "execution_count": null,
      "outputs": []
    },
    {
      "cell_type": "code",
      "source": [
        "my_agenda()"
      ],
      "metadata": {
        "colab": {
          "base_uri": "https://localhost:8080/"
        },
        "id": "T4F9Dk0lLaLl",
        "outputId": "07b1bb8f-bded-4fc8-8ee3-db8724313a61"
      },
      "execution_count": null,
      "outputs": [
        {
          "output_type": "stream",
          "name": "stdout",
          "text": [
            "1. Buscar contacto\n",
            "2. Insertar contacto\n",
            "3. Actualizar contacto\n",
            "4. Eliminar contacto\n",
            "5. Salir\n",
            "\n",
            "Selecciona una opción: 2\n",
            "Introduce el nombre del contacto: Pedro\n",
            "Introduce el número del contacto: 221\n",
            "1. Buscar contacto\n",
            "2. Insertar contacto\n",
            "3. Actualizar contacto\n",
            "4. Eliminar contacto\n",
            "5. Salir\n",
            "\n",
            "Selecciona una opción: 3\n",
            "Introduce el nombre del contacto a actualizar: Pedro\n",
            "Introduce el teléfono del contacto: 221333\n",
            "1. Buscar contacto\n",
            "2. Insertar contacto\n",
            "3. Actualizar contacto\n",
            "4. Eliminar contacto\n",
            "5. Salir\n",
            "\n",
            "Selecciona una opción: 1\n",
            "Introduce el nombre a buscar: Pedro\n",
            "El número de teléfono de Pedro es 221333\n",
            "1. Buscar contacto\n",
            "2. Insertar contacto\n",
            "3. Actualizar contacto\n",
            "4. Eliminar contacto\n",
            "5. Salir\n",
            "\n",
            "Selecciona una opción: 4\n",
            "Introduce el nombre del contacto a eliminar: Pedro\n",
            "1. Buscar contacto\n",
            "2. Insertar contacto\n",
            "3. Actualizar contacto\n",
            "4. Eliminar contacto\n",
            "5. Salir\n",
            "\n",
            "Selecciona una opción: 5\n",
            "Saliendo de la agenda\n"
          ]
        }
      ]
    },
    {
      "cell_type": "markdown",
      "source": [
        "# Cadena de caracteres"
      ],
      "metadata": {
        "id": "StjfWfeaMEKZ"
      }
    },
    {
      "cell_type": "code",
      "source": [
        "'''\n",
        "Operaciones con cadenas\n",
        "'''\n",
        "\n",
        "# Concanetación\n",
        "\n",
        "a = 'Hola'\n",
        "b = 'Mundo'\n",
        "\n",
        "print(a + ' ' + b + '!')"
      ],
      "metadata": {
        "colab": {
          "base_uri": "https://localhost:8080/"
        },
        "id": "ZLA3Hb5ZMlrh",
        "outputId": "c08c5d62-ac2d-4001-8b40-b4771fd1bee8"
      },
      "execution_count": null,
      "outputs": [
        {
          "output_type": "stream",
          "name": "stdout",
          "text": [
            "Hola Mundo!\n"
          ]
        }
      ]
    },
    {
      "cell_type": "code",
      "source": [
        "# Repetición\n",
        "\n",
        "print(a * 3)"
      ],
      "metadata": {
        "colab": {
          "base_uri": "https://localhost:8080/"
        },
        "id": "Biq0_-vONkmJ",
        "outputId": "5098cff2-2170-4da6-cd63-863705eef26c"
      },
      "execution_count": null,
      "outputs": [
        {
          "output_type": "stream",
          "name": "stdout",
          "text": [
            "HolaHolaHola\n"
          ]
        }
      ]
    },
    {
      "cell_type": "code",
      "source": [
        "# Indexación\n",
        "\n",
        "print(a[2] + a[3])"
      ],
      "metadata": {
        "colab": {
          "base_uri": "https://localhost:8080/"
        },
        "id": "_BS3waxsOG1Y",
        "outputId": "8edb848c-480b-4a95-a16e-733792218c8b"
      },
      "execution_count": null,
      "outputs": [
        {
          "output_type": "stream",
          "name": "stdout",
          "text": [
            "la\n"
          ]
        }
      ]
    },
    {
      "cell_type": "code",
      "source": [
        "#longitud\n",
        "len(a)"
      ],
      "metadata": {
        "colab": {
          "base_uri": "https://localhost:8080/"
        },
        "id": "G-87-BLwOQqw",
        "outputId": "117eeaba-4f4b-4811-9b06-7796542ecfac"
      },
      "execution_count": null,
      "outputs": [
        {
          "output_type": "execute_result",
          "data": {
            "text/plain": [
              "4"
            ]
          },
          "metadata": {},
          "execution_count": 6
        }
      ]
    },
    {
      "cell_type": "code",
      "source": [
        "# slicing (porción)\n",
        "\n",
        "print(b[2::])"
      ],
      "metadata": {
        "colab": {
          "base_uri": "https://localhost:8080/"
        },
        "id": "cAtkS-xlOT3g",
        "outputId": "2c79d1d1-4306-4a4a-e682-4cbcfc43105a"
      },
      "execution_count": null,
      "outputs": [
        {
          "output_type": "stream",
          "name": "stdout",
          "text": [
            "ndo\n"
          ]
        }
      ]
    },
    {
      "cell_type": "code",
      "source": [
        "# Búsqueda\n",
        "print('a' in a)\n",
        "print('u' in b)\n",
        "print('y' in b)"
      ],
      "metadata": {
        "colab": {
          "base_uri": "https://localhost:8080/"
        },
        "id": "Ck0Hv8zbOgNi",
        "outputId": "feca724e-b115-4daa-d6a7-b353d19add5c"
      },
      "execution_count": null,
      "outputs": [
        {
          "output_type": "stream",
          "name": "stdout",
          "text": [
            "True\n",
            "True\n",
            "False\n"
          ]
        }
      ]
    },
    {
      "cell_type": "code",
      "source": [
        "# Reemplazo\n",
        "print(a.replace('o', 'a'))"
      ],
      "metadata": {
        "colab": {
          "base_uri": "https://localhost:8080/"
        },
        "id": "HUWavr6TPB2C",
        "outputId": "ddabb9c5-f252-4e23-a40b-01a247de0e3d"
      },
      "execution_count": null,
      "outputs": [
        {
          "output_type": "stream",
          "name": "stdout",
          "text": [
            "Hala\n"
          ]
        }
      ]
    },
    {
      "cell_type": "code",
      "source": [
        "# DIvisión\n",
        "\n",
        "print(b.split('n'))"
      ],
      "metadata": {
        "colab": {
          "base_uri": "https://localhost:8080/"
        },
        "id": "CENEO1VLPTJh",
        "outputId": "a5b0f4e8-26c3-47d6-9cdd-953a8b4a9886"
      },
      "execution_count": null,
      "outputs": [
        {
          "output_type": "stream",
          "name": "stdout",
          "text": [
            "['Mu', 'do']\n"
          ]
        }
      ]
    },
    {
      "cell_type": "code",
      "source": [
        "# Mayúsucla y minúscula\n",
        "print(a.upper())\n",
        "print(a.lower())\n",
        "print(a.capitalize())\n",
        "print((a + ' ' + b).title())"
      ],
      "metadata": {
        "colab": {
          "base_uri": "https://localhost:8080/"
        },
        "id": "S5cAmsp2Pnrq",
        "outputId": "6cb31a98-7d55-4d14-d8c4-b8b3d119728d"
      },
      "execution_count": null,
      "outputs": [
        {
          "output_type": "stream",
          "name": "stdout",
          "text": [
            "HOLA\n",
            "hola\n",
            "Hola\n",
            "Hola Mundo\n"
          ]
        }
      ]
    },
    {
      "cell_type": "code",
      "source": [
        "# Eliminación de espacios al principio y al final\n",
        "\n",
        "c = '   jaja  '\n",
        "print(c.strip())"
      ],
      "metadata": {
        "colab": {
          "base_uri": "https://localhost:8080/"
        },
        "id": "cUlyMx8zP8T6",
        "outputId": "75323635-0797-4688-8e48-5014b1d0dbe0"
      },
      "execution_count": null,
      "outputs": [
        {
          "output_type": "stream",
          "name": "stdout",
          "text": [
            "jaja\n"
          ]
        }
      ]
    },
    {
      "cell_type": "code",
      "source": [
        "# Búsqueda al principio o al final\n",
        "\n",
        "print(a.startswith('Ho'))\n",
        "print(a.endswith('n'))"
      ],
      "metadata": {
        "colab": {
          "base_uri": "https://localhost:8080/"
        },
        "id": "ozTM9kh1QEPp",
        "outputId": "41e8c106-eb9c-4c99-c0a3-85bf0cf425d2"
      },
      "execution_count": null,
      "outputs": [
        {
          "output_type": "stream",
          "name": "stdout",
          "text": [
            "True\n",
            "False\n"
          ]
        }
      ]
    },
    {
      "cell_type": "code",
      "source": [
        "# Búsqueda de posición\n",
        "print(a.find('l'))"
      ],
      "metadata": {
        "colab": {
          "base_uri": "https://localhost:8080/"
        },
        "id": "ecgBXqNBQVby",
        "outputId": "c829f86d-e5d7-48d5-a825-9946d3ed27ee"
      },
      "execution_count": null,
      "outputs": [
        {
          "output_type": "stream",
          "name": "stdout",
          "text": [
            "2\n"
          ]
        }
      ]
    },
    {
      "cell_type": "code",
      "source": [
        "# Búsqueda de ocurrencias\n",
        "\n",
        "print(b.count('o')) # cantidad de veces que aparece"
      ],
      "metadata": {
        "colab": {
          "base_uri": "https://localhost:8080/"
        },
        "id": "EjNmLyKHQe7K",
        "outputId": "118c23c5-5d46-4efe-9856-b90299f4852b"
      },
      "execution_count": null,
      "outputs": [
        {
          "output_type": "stream",
          "name": "stdout",
          "text": [
            "1\n"
          ]
        }
      ]
    },
    {
      "cell_type": "code",
      "source": [
        "# Formateo\n",
        "\n",
        "print(\"Saludos: {}, lenguaje: {}!\".format(a,b))"
      ],
      "metadata": {
        "colab": {
          "base_uri": "https://localhost:8080/"
        },
        "id": "Pz9vlOcQQxlU",
        "outputId": "e708397e-3f02-44c2-b5cb-f32960d95b65"
      },
      "execution_count": null,
      "outputs": [
        {
          "output_type": "stream",
          "name": "stdout",
          "text": [
            "Saludos: Hola, lenguaje: Mundo!\n",
            "Saludos: {a}, lenguaje: {b}!\n"
          ]
        }
      ]
    },
    {
      "cell_type": "code",
      "source": [
        "# Transformación en lista de caracteres\n",
        "print(list(a))"
      ],
      "metadata": {
        "colab": {
          "base_uri": "https://localhost:8080/"
        },
        "id": "mnP6d7lURNOC",
        "outputId": "64acfe4d-ac87-4e8f-e5ba-c2e407a5c056"
      },
      "execution_count": null,
      "outputs": [
        {
          "output_type": "stream",
          "name": "stdout",
          "text": [
            "['H', 'o', 'l', 'a']\n"
          ]
        }
      ]
    },
    {
      "cell_type": "code",
      "source": [
        "# Transformación de lista en cadena\n",
        "l1 = [a + ' ' + b]\n",
        "print(''.join(l1))"
      ],
      "metadata": {
        "colab": {
          "base_uri": "https://localhost:8080/"
        },
        "id": "TrZuNiW1RcYj",
        "outputId": "c23a28ab-89f8-4ca7-c2f6-9248a3a02d48"
      },
      "execution_count": null,
      "outputs": [
        {
          "output_type": "stream",
          "name": "stdout",
          "text": [
            "Hola Mundo\n"
          ]
        }
      ]
    },
    {
      "cell_type": "code",
      "source": [
        "# Comprobaciones\n",
        "\n",
        "print(a.isalnum())\n",
        "print(a.isalpha())\n",
        "print(a.isnumeric())"
      ],
      "metadata": {
        "colab": {
          "base_uri": "https://localhost:8080/"
        },
        "id": "yxt5546gRqLa",
        "outputId": "01d2cf3a-60d8-475e-e723-2cd1323dc31e"
      },
      "execution_count": null,
      "outputs": [
        {
          "output_type": "stream",
          "name": "stdout",
          "text": [
            "True\n",
            "True\n",
            "False\n"
          ]
        }
      ]
    },
    {
      "cell_type": "code",
      "source": [
        "# Extra\n",
        "\n",
        "def check(word1: str, word2: str):\n",
        "  # Palíndromos\n",
        "  print(f'¿{word1} es un palíndromo? : {word1 == word1[::-1]}')\n",
        "  print(f'¿{word2} es un palíndromo? : {word2 == word2[::-1]}')\n",
        "\n",
        "  # Anagramas\n",
        "  print(f'¿{word1} es un anagrama de {word2}?: {sorted(word1) == sorted(word2)}')\n",
        "\n",
        "  # Isogramas\n",
        "  print(f'¿{word1} es un isograma?: {len(word1) == len(set(word1))}')\n",
        "  print(f'¿{word2} es un isograma?: {len(word2) == len(set(word2))}')"
      ],
      "metadata": {
        "id": "iLC6iC8VSKjk"
      },
      "execution_count": null,
      "outputs": []
    },
    {
      "cell_type": "code",
      "source": [
        "check(a,b)"
      ],
      "metadata": {
        "colab": {
          "base_uri": "https://localhost:8080/"
        },
        "id": "0QR_5iT2SwkD",
        "outputId": "a5c58a39-1e81-40f0-8d74-51bfc8cf4fd1"
      },
      "execution_count": null,
      "outputs": [
        {
          "output_type": "stream",
          "name": "stdout",
          "text": [
            "¿Hola es un palíndromo? : False\n",
            "¿Mundo es un palíndromo? : False\n",
            "¿Hola es un anagrama de Mundo?: False\n",
            "¿Hola es un isograma?: True\n",
            "¿Mundo es un isograma?: True\n"
          ]
        }
      ]
    },
    {
      "cell_type": "code",
      "source": [
        "check('roma', 'amor')"
      ],
      "metadata": {
        "colab": {
          "base_uri": "https://localhost:8080/"
        },
        "id": "X0-sHDEXU2Ob",
        "outputId": "11434008-6ace-4cfe-fe81-1e2a0ff7041f"
      },
      "execution_count": null,
      "outputs": [
        {
          "output_type": "stream",
          "name": "stdout",
          "text": [
            "¿roma es un palíndromo? : False\n",
            "¿amor es un palíndromo? : False\n",
            "¿roma es un anagrama de amor?: True\n",
            "¿roma es un isograma?: True\n",
            "¿amor es un isograma?: True\n"
          ]
        }
      ]
    },
    {
      "cell_type": "markdown",
      "source": [
        "# Valor y Referencia"
      ],
      "metadata": {
        "id": "dJoCc4iWWe30"
      }
    },
    {
      "cell_type": "code",
      "source": [
        "my_int_a = 10\n",
        "my_int_b = 20\n",
        "print(my_int_a)\n",
        "print(my_int_b)"
      ],
      "metadata": {
        "colab": {
          "base_uri": "https://localhost:8080/"
        },
        "id": "eJAz4NL6WhiG",
        "outputId": "5af6c184-b63d-465b-f608-8ad68947a59b"
      },
      "execution_count": null,
      "outputs": [
        {
          "output_type": "stream",
          "name": "stdout",
          "text": [
            "10\n",
            "20\n"
          ]
        }
      ]
    },
    {
      "cell_type": "code",
      "source": [
        "my_int_b = my_int_a\n",
        "print(my_int_b)"
      ],
      "metadata": {
        "colab": {
          "base_uri": "https://localhost:8080/"
        },
        "id": "v56RPOMOXcdN",
        "outputId": "1a6d04ef-af99-48fd-9429-294daf11aca1"
      },
      "execution_count": null,
      "outputs": [
        {
          "output_type": "stream",
          "name": "stdout",
          "text": [
            "10\n"
          ]
        }
      ]
    },
    {
      "cell_type": "code",
      "source": [
        "# Tipos de dato por referencia\n",
        "# Los datos por referencia no heredan su valor\n",
        "# Comparten la dirección de memoria\n",
        "\n",
        "my_list_a = [10, 20]\n",
        "my_list_b = my_list_a\n",
        "my_list_b.append(30)\n",
        "print(my_list_a) # también se modificó la 'a'\n",
        "print(my_list_b)"
      ],
      "metadata": {
        "colab": {
          "base_uri": "https://localhost:8080/"
        },
        "id": "tFd7bME8Xzbd",
        "outputId": "223e7b3d-27e4-4f6d-ebc7-ab11491e5a75"
      },
      "execution_count": null,
      "outputs": [
        {
          "output_type": "stream",
          "name": "stdout",
          "text": [
            "[10, 20, 30]\n",
            "[10, 20, 30]\n"
          ]
        }
      ]
    },
    {
      "cell_type": "code",
      "source": [
        "# Funciones con datos por valor\n",
        "\n",
        "my_int_c = 10\n",
        "\n",
        "def my_int_func(my_int:int):\n",
        "  my_int = 20\n",
        "  print(my_int)\n",
        "\n",
        "my_int_func(my_int_c)\n",
        "print(my_int_c)"
      ],
      "metadata": {
        "colab": {
          "base_uri": "https://localhost:8080/"
        },
        "id": "PYNvg-LoZPgv",
        "outputId": "bc805c52-b37f-451d-a56d-786c9d8e0a84"
      },
      "execution_count": null,
      "outputs": [
        {
          "output_type": "stream",
          "name": "stdout",
          "text": [
            "20\n",
            "10\n"
          ]
        }
      ]
    },
    {
      "cell_type": "code",
      "source": [
        "# funciones con datos por refencia\n",
        "\n",
        "my_list_c = [10, 20]\n",
        "\n",
        "def my_list_func(my_list: list):\n",
        "  my_list.append(30)\n",
        "  print(my_list)\n",
        "\n",
        "my_list_func(my_list_c)\n",
        "print(my_list_c)"
      ],
      "metadata": {
        "colab": {
          "base_uri": "https://localhost:8080/"
        },
        "id": "MH9usfZOZlNe",
        "outputId": "40c6c7c7-9966-41b3-a76e-79aba87e5b2e"
      },
      "execution_count": null,
      "outputs": [
        {
          "output_type": "stream",
          "name": "stdout",
          "text": [
            "[10, 20, 30]\n",
            "[10, 20, 30]\n"
          ]
        }
      ]
    },
    {
      "cell_type": "code",
      "source": [
        "# Extra\n",
        "# def por valor\n",
        "\n",
        "a = 10\n",
        "b = 20\n",
        "\n",
        "def valor(x: int, y: int)-> tuple:\n",
        "  temp = x\n",
        "  x = y\n",
        "  y = temp\n",
        "  return x, y\n",
        "\n",
        "c, d = valor(a, b)\n",
        "\n",
        "print(a, b)\n",
        "print(c, d)"
      ],
      "metadata": {
        "colab": {
          "base_uri": "https://localhost:8080/"
        },
        "id": "RmlD9IDAajEn",
        "outputId": "3aa4243d-9265-4d8e-9c9d-d971be7e4553"
      },
      "execution_count": null,
      "outputs": [
        {
          "output_type": "stream",
          "name": "stdout",
          "text": [
            "10 20\n",
            "20 10\n"
          ]
        }
      ]
    },
    {
      "cell_type": "code",
      "source": [
        "# def por referencia\n",
        "\n",
        "def ref(x: list, y:list)-> tuple:\n",
        "  temp = x\n",
        "  temp.append(50)\n",
        "  x = y\n",
        "  y = temp\n",
        "  return x, y\n",
        "\n",
        "a = [10, 20]\n",
        "b = [30, 40]\n",
        "\n",
        "c, d = ref(a, b)\n",
        "\n",
        "print(a, b)\n",
        "print(c, d)"
      ],
      "metadata": {
        "colab": {
          "base_uri": "https://localhost:8080/"
        },
        "id": "F5a7zwrBb3ZQ",
        "outputId": "117f85c3-7257-4f79-ea76-c80b0a338d8d"
      },
      "execution_count": null,
      "outputs": [
        {
          "output_type": "stream",
          "name": "stdout",
          "text": [
            "[10, 20, 50] [30, 40]\n",
            "[30, 40] [10, 20, 50]\n"
          ]
        }
      ]
    },
    {
      "cell_type": "markdown",
      "source": [
        "# Recursividad"
      ],
      "metadata": {
        "id": "7JL3_R9_Jd9o"
      }
    },
    {
      "cell_type": "code",
      "source": [
        "# Función que se llama a ella misma\n",
        "\n",
        "def countdown(number: int):\n",
        "  if number >= 0:\n",
        "    print(number)\n",
        "    countdown(number - 1)\n",
        "\n",
        "countdown(10)"
      ],
      "metadata": {
        "colab": {
          "base_uri": "https://localhost:8080/"
        },
        "id": "_xRnltoPJj5M",
        "outputId": "9b94e17f-bd96-4e1c-c9a6-e1a8c2f8c86a"
      },
      "execution_count": null,
      "outputs": [
        {
          "output_type": "stream",
          "name": "stdout",
          "text": [
            "10\n",
            "9\n",
            "8\n",
            "7\n",
            "6\n",
            "5\n",
            "4\n",
            "3\n",
            "2\n",
            "1\n",
            "0\n"
          ]
        }
      ]
    },
    {
      "cell_type": "markdown",
      "source": [
        "Calcular el factorial de un número concreto (la función recibe ese nuúmero)"
      ],
      "metadata": {
        "id": "RnSICQgCTOCq"
      }
    },
    {
      "cell_type": "code",
      "source": [
        "def factorial(number: int)-> int:\n",
        "  if number < 0:\n",
        "    print(\"Los números negativos no son válidos\")\n",
        "    return 0\n",
        "  elif number == 0:\n",
        "    return 1\n",
        "  else:\n",
        "    return number * factorial(number - 1)\n",
        "\n",
        "print(factorial(5))"
      ],
      "metadata": {
        "colab": {
          "base_uri": "https://localhost:8080/"
        },
        "id": "X3FevxTvMVFr",
        "outputId": "d3e68edc-3f87-4057-e668-fc86f2e8ac55"
      },
      "execution_count": null,
      "outputs": [
        {
          "output_type": "stream",
          "name": "stdout",
          "text": [
            "120\n"
          ]
        }
      ]
    },
    {
      "cell_type": "markdown",
      "source": [
        "Calcular el valor de un elemento concreto (según su posición) en la sucesión fibonacci (la función recibe la posición)."
      ],
      "metadata": {
        "id": "0-l4CdH6S-LR"
      }
    },
    {
      "cell_type": "code",
      "source": [
        "def fibonacci(number: int)-> int:\n",
        "  if number <= 0:\n",
        "    print(\"La posición tiene que ser mayor que cero\")\n",
        "    return 0\n",
        "  elif number == 1:\n",
        "    return 0\n",
        "  elif number == 2:\n",
        "    return 1\n",
        "  else:\n",
        "    return fibonacci(number - 1) + fibonacci(number - 2)\n",
        "\n",
        "print(fibonacci(5))"
      ],
      "metadata": {
        "colab": {
          "base_uri": "https://localhost:8080/"
        },
        "id": "b_yDBS4XQDZa",
        "outputId": "6ade64a8-7be1-44e1-ae4b-3817ff016f1c"
      },
      "execution_count": null,
      "outputs": [
        {
          "output_type": "stream",
          "name": "stdout",
          "text": [
            "3\n"
          ]
        }
      ]
    },
    {
      "cell_type": "code",
      "source": [
        "print(fibonacci(8))"
      ],
      "metadata": {
        "colab": {
          "base_uri": "https://localhost:8080/"
        },
        "id": "73DBC3etEZzU",
        "outputId": "27cc81db-115d-4cd2-bfb4-b6835d7d5aa2"
      },
      "execution_count": null,
      "outputs": [
        {
          "output_type": "stream",
          "name": "stdout",
          "text": [
            "13\n"
          ]
        }
      ]
    },
    {
      "cell_type": "markdown",
      "source": [
        "# Pilas y colas"
      ],
      "metadata": {
        "id": "6mD8vjkpS0ET"
      }
    },
    {
      "cell_type": "code",
      "source": [
        "# Pila/stack (LIFO) --> Last in first out (último en entrar, primero en salir)\n",
        "\n",
        "stack = []\n",
        "# push\n",
        "stack.append('1')\n",
        "stack.append('2')\n",
        "stack.append('3')\n",
        "\n",
        "# pop (desapilar) (es como usar stack.pop)\n",
        "stack_item = stack[len(stack)-1]\n",
        "del stack[len(stack)-1]\n",
        "\n",
        "print(stack_item)\n",
        "print(stack)"
      ],
      "metadata": {
        "colab": {
          "base_uri": "https://localhost:8080/"
        },
        "id": "nLFh9BSSNWxX",
        "outputId": "6b88fe73-fb55-451b-9d2e-020609262583"
      },
      "execution_count": null,
      "outputs": [
        {
          "output_type": "stream",
          "name": "stdout",
          "text": [
            "3\n",
            "['1', '2']\n"
          ]
        }
      ]
    },
    {
      "cell_type": "code",
      "source": [
        "stack = []\n",
        "# push\n",
        "stack.append('1')\n",
        "stack.append('2')\n",
        "stack.append('3')\n",
        "\n",
        "stack_item = stack.pop()\n",
        "\n",
        "print(stack_item)\n",
        "print(stack)"
      ],
      "metadata": {
        "colab": {
          "base_uri": "https://localhost:8080/"
        },
        "id": "uKyNuEEuOh7Q",
        "outputId": "52f41b86-5d61-4a81-f9f3-873b4a649585"
      },
      "execution_count": null,
      "outputs": [
        {
          "output_type": "stream",
          "name": "stdout",
          "text": [
            "3\n",
            "['1', '2']\n"
          ]
        }
      ]
    },
    {
      "cell_type": "code",
      "source": [
        "# Cola/Queue (FIFO) Firs in first out (primero en entrar, primero en salir)\n",
        "\n",
        "queue = []\n",
        "# push\n",
        "queue.append('1')\n",
        "queue.append('2')\n",
        "queue.append('3')\n",
        "\n",
        "# desapilar el primer elemento\n",
        "queue_item = queue.pop(0)\n",
        "\n",
        "print(queue_item)\n",
        "print(queue)"
      ],
      "metadata": {
        "colab": {
          "base_uri": "https://localhost:8080/"
        },
        "id": "QlsU9HTdOsBw",
        "outputId": "5d5d760c-0aff-464b-deed-5da5722b0373"
      },
      "execution_count": null,
      "outputs": [
        {
          "output_type": "stream",
          "name": "stdout",
          "text": [
            "1\n",
            "['2', '3']\n"
          ]
        }
      ]
    },
    {
      "cell_type": "markdown",
      "source": [
        "Utilizando la implementación de pila y cadenas de texto, simula el mecanismo adelante/atrás de un navegador web. Crea un programa en el que puedas navegar a una página o indicarle que quieres deplazarte \"adelante\", \"atrás\" desencadenado esta acción, el resto se interpreta como el nombre de una nueva web."
      ],
      "metadata": {
        "id": "UNEI5nSLQAAh"
      }
    },
    {
      "cell_type": "code",
      "source": [
        "def web():\n",
        "  stack = []\n",
        "  while True:\n",
        "    action = input(\"añade una url o interactua con las palabras adelante/atrás/salir: \")\n",
        "\n",
        "    if action == 'salir':\n",
        "      print('Salir del navegador web.')\n",
        "      break\n",
        "    elif action == 'adelante':\n",
        "      pass # Con el stack no se puede hacer\n",
        "    elif action == 'atrás':\n",
        "      if len(stack) > 0:\n",
        "        stack.pop()\n",
        "    else:\n",
        "      stack.append(action)\n",
        "    if len(stack) > 0:\n",
        "      print(f'Has navegado a la web: {stack[len(stack)-1]}')\n",
        "    else:\n",
        "      print('Estás en la página de inicio.')\n",
        "\n",
        "web()"
      ],
      "metadata": {
        "colab": {
          "base_uri": "https://localhost:8080/"
        },
        "id": "VS-29HQTP0bZ",
        "outputId": "5f1d4b08-0093-4eba-a58d-4520c7e1e051"
      },
      "execution_count": null,
      "outputs": [
        {
          "output_type": "stream",
          "name": "stdout",
          "text": [
            "añade una url o interactua con las palabras adelante/atrás/salir: google\n",
            "Has navegado a la web: google\n",
            "añade una url o interactua con las palabras adelante/atrás/salir: facebook\n",
            "Has navegado a la web: facebook\n",
            "añade una url o interactua con las palabras adelante/atrás/salir: atras\n",
            "Has navegado a la web: atras\n",
            "añade una url o interactua con las palabras adelante/atrás/salir: atras\n",
            "Has navegado a la web: atras\n",
            "añade una url o interactua con las palabras adelante/atrás/salir: atrás\n",
            "Has navegado a la web: atras\n",
            "añade una url o interactua con las palabras adelante/atrás/salir: atrás\n",
            "Has navegado a la web: facebook\n",
            "añade una url o interactua con las palabras adelante/atrás/salir: atrás\n",
            "Has navegado a la web: google\n",
            "añade una url o interactua con las palabras adelante/atrás/salir: atrás\n",
            "Estás en la página de inicio.\n",
            "añade una url o interactua con las palabras adelante/atrás/salir: atrás\n",
            "Estás en la página de inicio.\n",
            "añade una url o interactua con las palabras adelante/atrás/salir: google\n",
            "Has navegado a la web: google\n",
            "añade una url o interactua con las palabras adelante/atrás/salir: facebook\n",
            "Has navegado a la web: facebook\n",
            "añade una url o interactua con las palabras adelante/atrás/salir: adelante\n",
            "Has navegado a la web: facebook\n",
            "añade una url o interactua con las palabras adelante/atrás/salir: salir\n",
            "Salir del navegador web.\n"
          ]
        }
      ]
    },
    {
      "cell_type": "markdown",
      "source": [
        "Utilizando la implementación de cola y cadenas de texto, simula el mecanismo de una impresora compartida que recibe documentos y los imprime cuando así se le indica. La palabra 'imprimir' imprime un elemento de la cola, el resto de palabras se interpretan como nombres de documentos."
      ],
      "metadata": {
        "id": "G8DzokC7Tpia"
      }
    },
    {
      "cell_type": "code",
      "source": [
        "def impresora():\n",
        "  queue = []\n",
        "  while True:\n",
        "    action = input('Añade un documento o selecciona imprimir/salir: ')\n",
        "\n",
        "    if action == 'salir':\n",
        "      break\n",
        "    elif action == 'imprimir':\n",
        "      if len(queue) > 0:\n",
        "        print(f'Imprimiendo: {queue.pop(0)}')\n",
        "    else:\n",
        "      queue.append(action)\n",
        "\n",
        "    print(f'Cola de impresión: {queue}')\n",
        "\n",
        "\n",
        "impresora()"
      ],
      "metadata": {
        "colab": {
          "base_uri": "https://localhost:8080/"
        },
        "id": "2QV6JI0rUAaC",
        "outputId": "b077dfa5-2176-42f4-8d3a-32b998b01177"
      },
      "execution_count": null,
      "outputs": [
        {
          "name": "stdout",
          "output_type": "stream",
          "text": [
            "Añade un documento o selecciona imprimir/salir: factura1\n",
            "Cola de impresión: ['factura1']\n",
            "Añade un documento o selecciona imprimir/salir: factura2\n",
            "Cola de impresión: ['factura1', 'factura2']\n",
            "Añade un documento o selecciona imprimir/salir: factura4\n",
            "Cola de impresión: ['factura1', 'factura2', 'factura4']\n",
            "Añade un documento o selecciona imprimir/salir: imprimir\n",
            "Imprimiendo: factura1\n",
            "Cola de impresión: ['factura2', 'factura4']\n",
            "Añade un documento o selecciona imprimir/salir: imprimir\n",
            "Imprimiendo: factura2\n",
            "Cola de impresión: ['factura4']\n",
            "Añade un documento o selecciona imprimir/salir: imprimir\n",
            "Imprimiendo: factura4\n",
            "Cola de impresión: []\n",
            "Añade un documento o selecciona imprimir/salir: imprimir\n",
            "Cola de impresión: []\n",
            "Añade un documento o selecciona imprimir/salir: salir\n"
          ]
        }
      ]
    },
    {
      "cell_type": "markdown",
      "source": [
        "# Clases"
      ],
      "metadata": {
        "id": "dO89yHGSVTyT"
      }
    },
    {
      "cell_type": "code",
      "source": [
        "class Programador:\n",
        "\n",
        "  lastname: str = None\n",
        "\n",
        "  def __init__(self, name: str, age: int, language: list):\n",
        "    self.name = name\n",
        "    self.age = age\n",
        "    self.language = language\n",
        "\n",
        "  def print(self):\n",
        "    print(f'Nombre: {self.name} | Apellido: {self.lastname} | Edad: {self.age} | Lenguaje: {self.language}')\n",
        "\n",
        "programador1 = Programador('Eze', 32, ['Python', 'SQL'])\n",
        "\n",
        "programador1.print()\n",
        "\n",
        "programador1.lastname = 'Perez'\n",
        "programador1.print()\n",
        "\n",
        "programador1.age = 33\n",
        "programador1.print()"
      ],
      "metadata": {
        "colab": {
          "base_uri": "https://localhost:8080/"
        },
        "id": "1CDp_TBXVVEi",
        "outputId": "897f0430-b52a-4197-fd20-bbbeed23a320"
      },
      "execution_count": null,
      "outputs": [
        {
          "output_type": "stream",
          "name": "stdout",
          "text": [
            "Nombre: Eze | Apellido: None | Edad: 32 | Lenguaje: ['Python', 'SQL']\n",
            "Nombre: Eze | Apellido: Perez | Edad: 32 | Lenguaje: ['Python', 'SQL']\n",
            "Nombre: Eze | Apellido: Perez | Edad: 33 | Lenguaje: ['Python', 'SQL']\n"
          ]
        }
      ]
    },
    {
      "cell_type": "markdown",
      "source": [
        "Implementa dos clases que representen las estructuras de pila y cola (estudiadios en el ejercicio anterior). Deben poder inicializarse y disponer de operaciones para añadir, eliminar, retornar el número de elementos e imprimir todo su contenido."
      ],
      "metadata": {
        "id": "MGNWO94YZUDn"
      }
    },
    {
      "cell_type": "code",
      "source": [
        "class Stack:\n",
        "  def __init__(self):\n",
        "    self.stack = []\n",
        "\n",
        "  def push(self, item):\n",
        "    self.stack.append(item)\n",
        "\n",
        "  def pop(self):\n",
        "    if self.count() == 0:\n",
        "      return None\n",
        "    return self.stack.pop()\n",
        "\n",
        "  def count(self):\n",
        "    return len(self.stack)\n",
        "\n",
        "  def print(self):\n",
        "    for item in reversed(self.stack):\n",
        "      print(item)\n",
        "\n",
        "my_stack = Stack()\n",
        "my_stack.push('A')\n",
        "my_stack.push('B')\n",
        "my_stack.push('C')\n",
        "my_stack.push('D')\n",
        "\n",
        "print(my_stack.count())\n",
        "my_stack.print()\n",
        "print()\n",
        "print(my_stack.pop())\n",
        "print()\n",
        "print(my_stack.count())\n",
        "my_stack.print()"
      ],
      "metadata": {
        "colab": {
          "base_uri": "https://localhost:8080/"
        },
        "id": "yeSZkxUYZom6",
        "outputId": "478cd219-ddc3-459b-ab5f-d78dc127dbb5"
      },
      "execution_count": null,
      "outputs": [
        {
          "output_type": "stream",
          "name": "stdout",
          "text": [
            "4\n",
            "D\n",
            "C\n",
            "B\n",
            "A\n",
            "\n",
            "D\n",
            "\n",
            "3\n",
            "C\n",
            "B\n",
            "A\n"
          ]
        }
      ]
    },
    {
      "cell_type": "code",
      "source": [
        "class Queue:\n",
        "  def __init__(self):\n",
        "    self.queue = []\n",
        "\n",
        "  def equeue(self, item):\n",
        "    self.queue.append(item)\n",
        "\n",
        "  def deequeue(self):\n",
        "    if self.count() == 0:\n",
        "      return None\n",
        "    return self.queue.pop(0)\n",
        "\n",
        "  def count(self):\n",
        "    return len(self.queue)\n",
        "\n",
        "  def print(self):\n",
        "    for item in self.queue:\n",
        "      print(item)\n",
        "\n",
        "my_queue = Queue()\n",
        "my_queue.equeue('A')\n",
        "my_queue.equeue('B')\n",
        "my_queue.equeue('C')\n",
        "my_queue.equeue('D')\n",
        "print(my_queue.count())\n",
        "my_queue.print()\n",
        "print()\n",
        "print(my_queue.deequeue())\n",
        "print()\n",
        "print(my_queue.count())\n",
        "my_queue.print()"
      ],
      "metadata": {
        "colab": {
          "base_uri": "https://localhost:8080/"
        },
        "id": "Dj4MbT7PcE65",
        "outputId": "456caae7-ad56-41ab-ece1-51b88241529e"
      },
      "execution_count": null,
      "outputs": [
        {
          "output_type": "stream",
          "name": "stdout",
          "text": [
            "4\n",
            "A\n",
            "B\n",
            "C\n",
            "D\n",
            "\n",
            "A\n",
            "\n",
            "3\n",
            "B\n",
            "C\n",
            "D\n"
          ]
        }
      ]
    },
    {
      "cell_type": "markdown",
      "source": [
        "# Herencia y polimorfismo"
      ],
      "metadata": {
        "id": "kOHciWU3dWva"
      }
    },
    {
      "cell_type": "markdown",
      "source": [
        "Polimorfismo es la capacidad de una clase de tomar muchas formas, de comportarse de manera distintas. Animal es polimorfo porque actúa diferente en Dog o Cat"
      ],
      "metadata": {
        "id": "NsoQjm4ML_eT"
      }
    },
    {
      "cell_type": "code",
      "source": [
        "# Superclase\n",
        "class Animal():\n",
        "  def __init__(self, name: str):\n",
        "    self.name = name\n",
        "\n",
        "  def sound():\n",
        "    pass\n",
        "\n",
        "# Subclases\n",
        "\n",
        "class Dog(Animal):\n",
        "  def sound(self):\n",
        "    print(\"Guau!\")\n",
        "\n",
        "class Cat(Animal):\n",
        "  def sound(self):\n",
        "    print(\"Miauu!\")\n",
        "\n",
        "perro1 = Dog('Totito')\n",
        "perro1.sound()\n",
        "\n",
        "def print_sound(animal: Animal):\n",
        "  animal.sound()\n",
        "\n",
        "my_cat = Cat('Michi')\n",
        "print_sound(my_cat)"
      ],
      "metadata": {
        "colab": {
          "base_uri": "https://localhost:8080/"
        },
        "id": "smF15w3BIk-3",
        "outputId": "7d80a5bc-fc97-4dfd-b455-eb5762693962"
      },
      "execution_count": null,
      "outputs": [
        {
          "output_type": "stream",
          "name": "stdout",
          "text": [
            "Guau!\n",
            "Miauu!\n"
          ]
        }
      ]
    },
    {
      "cell_type": "markdown",
      "source": [
        "Implementa la jerarquía de una empresa de desarrollo formada por Empleados que pueden ser Gerentes, Gerentes de Proyectos o Programadores. Cada empleado tiene un identificador y un nombre.\n",
        "Dependiendo de su labor, tienen propiedades y funciones exclusivas de su actividad, y almacenan los empleados a su cargo."
      ],
      "metadata": {
        "id": "v3C3zYv0NCAR"
      }
    },
    {
      "cell_type": "code",
      "source": [
        "class Employee():\n",
        "  def __init__(self, id: int, name: str):\n",
        "    self.id = id\n",
        "    self.name = name\n",
        "    self.employees = []\n",
        "\n",
        "  def add(self, employee):\n",
        "    self.employees.append(employee)\n",
        "\n",
        "  def print_employees(self):\n",
        "    for employee in self.employees:\n",
        "      print(employee.name)\n",
        "\n",
        "class Manager(Employee):\n",
        "\n",
        "  def coordinate_proyects(self):\n",
        "    print(f'{self.name} está coordinando todos los proyectos de la empresa')\n",
        "\n",
        "class ProjectManager(Employee):\n",
        "\n",
        "  def __init__(self, id: int, name: str, project: str):\n",
        "    super().__init__(id, name)\n",
        "    self.project = project\n",
        "\n",
        "  def coordinate_project(self):\n",
        "    print(f'{self.name} está coordinando su proyecto')\n",
        "\n",
        "class Programmer(Employee):\n",
        "\n",
        "  def __init__(self, id: int, name: str, language: str):\n",
        "    super().__init__(id, name)\n",
        "    self.language = language\n",
        "\n",
        "  def code(self):\n",
        "    print(f'{self.name} está programando en {self.language}')\n",
        "\n",
        "  def add(self, employee):\n",
        "      print('Los programadores no tienen empleados a su cargo')\n",
        "\n",
        "my_manager = Manager(1, 'MoureDev')\n",
        "my_project_manager = ProjectManager(2, 'Brais', 'Proyecto1')\n",
        "my_project_manager2 = ProjectManager(2, 'Lucas', 'Proyecto2')\n",
        "my_programmer = Programmer(4, 'Eze', 'Python')\n",
        "my_programmer2 = Programmer(5, 'Ro', 'Java')\n",
        "my_programmer3 = Programmer(6, 'Nico', 'Cobol')\n",
        "my_programmer4 = Programmer(7, 'Juan', 'Dart')\n",
        "\n",
        "my_manager.add(my_project_manager)\n",
        "my_manager.add(my_project_manager2)\n",
        "\n",
        "my_project_manager.add(my_programmer)\n",
        "my_project_manager.add(my_programmer2)\n",
        "my_project_manager2.add(my_programmer3)\n",
        "my_project_manager2.add(my_programmer4)\n",
        "\n",
        "my_programmer.add(my_programmer2)"
      ],
      "metadata": {
        "colab": {
          "base_uri": "https://localhost:8080/"
        },
        "id": "-SgXpLjFM-_K",
        "outputId": "ac7474a7-7980-4d99-ae38-71532511b20d"
      },
      "execution_count": null,
      "outputs": [
        {
          "output_type": "stream",
          "name": "stdout",
          "text": [
            "Los programadores no tienen empleados a su cargo\n"
          ]
        }
      ]
    },
    {
      "cell_type": "code",
      "source": [
        "my_programmer.code()\n",
        "my_project_manager.coordinate_project()\n",
        "my_manager.coordinate_proyects()\n",
        "my_manager.print_employees()\n",
        "my_project_manager.print_employees()\n",
        "my_programmer.print_employees()"
      ],
      "metadata": {
        "colab": {
          "base_uri": "https://localhost:8080/"
        },
        "id": "j4kzD3RATMTC",
        "outputId": "d69c9bc4-de2a-4451-a832-b4a628c7c6ca"
      },
      "execution_count": null,
      "outputs": [
        {
          "output_type": "stream",
          "name": "stdout",
          "text": [
            "Eze está programando en Python\n",
            "Brais está coordinando su proyecto\n",
            "MoureDev está coordinando todos los proyectos de la empresa\n",
            "Brais\n",
            "Lucas\n",
            "Eze\n",
            "Ro\n"
          ]
        }
      ]
    },
    {
      "cell_type": "markdown",
      "source": [
        "# Excepciones"
      ],
      "metadata": {
        "id": "45ymDzF6UIiD"
      }
    },
    {
      "cell_type": "code",
      "source": [
        "try:\n",
        "  print(10/0)\n",
        "except:\n",
        "  print('Se ha producido un error')"
      ],
      "metadata": {
        "colab": {
          "base_uri": "https://localhost:8080/"
        },
        "id": "ArjxPxvpUvzx",
        "outputId": "1f9a78a0-d05f-408d-f85f-4a3a494b7108"
      },
      "execution_count": null,
      "outputs": [
        {
          "output_type": "stream",
          "name": "stdout",
          "text": [
            "Se ha producido un error\n"
          ]
        }
      ]
    },
    {
      "cell_type": "code",
      "source": [
        "try:\n",
        "  print(10/0)\n",
        "\n",
        "except Exception as e:\n",
        "  print(f'Se ha producido un error: {e}')"
      ],
      "metadata": {
        "colab": {
          "base_uri": "https://localhost:8080/"
        },
        "id": "tmd29TPoV3Gi",
        "outputId": "6232d45c-f79f-4654-9afb-6a29cc96de4a"
      },
      "execution_count": null,
      "outputs": [
        {
          "output_type": "stream",
          "name": "stdout",
          "text": [
            "Se ha producido un error: division by zero\n"
          ]
        }
      ]
    },
    {
      "cell_type": "code",
      "source": [
        "try:\n",
        "  print(10/1)\n",
        "\n",
        "  my_list = [1,2,3,4]\n",
        "  print(my_list[4])\n",
        "  '''\n",
        "  print([1,2,3,4][4])  También se puede acceder así al índice\n",
        "  '''\n",
        "\n",
        "except Exception as e:\n",
        "  print(f'Se ha producido un error: {e}')"
      ],
      "metadata": {
        "colab": {
          "base_uri": "https://localhost:8080/"
        },
        "id": "z-gzKKAXWCbB",
        "outputId": "fb9f1ab5-bccd-42a7-f2f3-3fee08afc08c"
      },
      "execution_count": null,
      "outputs": [
        {
          "output_type": "stream",
          "name": "stdout",
          "text": [
            "10.0\n",
            "Se ha producido un error: list index out of range\n"
          ]
        }
      ]
    },
    {
      "cell_type": "code",
      "source": [
        "try:\n",
        "  print(10/0)\n",
        "\n",
        "except Exception as e:\n",
        "  print(f'Se ha producido un error: {e} ({type(e).__name__})')"
      ],
      "metadata": {
        "colab": {
          "base_uri": "https://localhost:8080/"
        },
        "id": "WMqJYK67X4Jb",
        "outputId": "eaa24a05-d5ac-41f8-d7fc-0e9b062bb08f"
      },
      "execution_count": null,
      "outputs": [
        {
          "output_type": "stream",
          "name": "stdout",
          "text": [
            "Se ha producido un error: division by zero (ZeroDivisionError)\n"
          ]
        }
      ]
    },
    {
      "cell_type": "code",
      "source": [
        "# Extra\n",
        "\n",
        "class StrTypeError(Exception): #Crear un error que no es propio de la semana\n",
        "  pass\n",
        "\n",
        "def process_params(parameters: list):\n",
        "  if len(parameters) < 3:\n",
        "    raise IndexError()\n",
        "  elif parameters[1] == 0:\n",
        "    raise ZeroDivisionError\n",
        "  elif type(parameters[2]) == str:\n",
        "    raise StrTypeError(\"El segundo elemento no puede ser una cadena de texto\")\n",
        "\n",
        "  print(parameters[2])\n",
        "  print(parameters[0]/parameters[1])\n",
        "  print(parameters[2] + 5)\n",
        "\n",
        "\n",
        "try:\n",
        "  process_params([1,2,'Brais',3])\n",
        "except IndexError as e:\n",
        "  print(f\"El número de la lista debe ser mayor que dos.\")\n",
        "except ZeroDivisionError as e:\n",
        "  print(f\"El segundo elemento de la lista no puede ser cero.\")\n",
        "except StrTypeError as e:\n",
        "  print(f\"{e}\")\n",
        "except Exception as e:\n",
        "  print(f\"Se ha producido un error inesperado: {e}\")\n",
        "else:\n",
        "  print(\"No se ha producido ningún error\")\n",
        "finally: # Esto hace que se ejecute siempre\n",
        "  print('El programa finaliza')"
      ],
      "metadata": {
        "colab": {
          "base_uri": "https://localhost:8080/"
        },
        "id": "ncszU6LpW2fA",
        "outputId": "b9aebc03-c078-4773-dd68-c74b911f75f7"
      },
      "execution_count": null,
      "outputs": [
        {
          "output_type": "stream",
          "name": "stdout",
          "text": [
            "El segundo elemento no puede ser una cadena de texto\n",
            "El programa finaliza\n"
          ]
        }
      ]
    },
    {
      "cell_type": "markdown",
      "source": [
        "# Manejo de Ficheros"
      ],
      "metadata": {
        "id": "9WE2po4jbueM"
      }
    },
    {
      "cell_type": "code",
      "source": [
        "import os\n",
        "\n",
        "file_name=\"eze.txt\"\n",
        "\n",
        "open(file_name, 'w') # El write crea el archivo"
      ],
      "metadata": {
        "colab": {
          "base_uri": "https://localhost:8080/"
        },
        "id": "FzmEVOVhrzRJ",
        "outputId": "9b219f56-0629-4568-eda6-91d54d97a60d"
      },
      "execution_count": null,
      "outputs": [
        {
          "output_type": "execute_result",
          "data": {
            "text/plain": [
              "<_io.TextIOWrapper name='eze.txt' mode='w' encoding='UTF-8'>"
            ]
          },
          "metadata": {},
          "execution_count": 1
        }
      ]
    },
    {
      "cell_type": "code",
      "source": [
        "with open(file_name, 'w') as file: # Permiso de escritura (write)\n",
        "  file.write('Ezequiel\\n')\n",
        "  file.write('32\\n')\n",
        "  file.write('Python\\n')"
      ],
      "metadata": {
        "id": "5nzg-wzwsN-w"
      },
      "execution_count": null,
      "outputs": []
    },
    {
      "cell_type": "code",
      "source": [
        "with open(file_name, 'r') as file: # Permiso de lectura (read)\n",
        "  print(file.read())\n",
        "\n",
        "os.remove(file_name)"
      ],
      "metadata": {
        "colab": {
          "base_uri": "https://localhost:8080/"
        },
        "id": "rJNExB7Ks27C",
        "outputId": "2b85b955-7229-40e4-fe71-ceccaeeb5a12"
      },
      "execution_count": null,
      "outputs": [
        {
          "output_type": "stream",
          "name": "stdout",
          "text": [
            "Ezequiel\n",
            "32\n",
            "Python\n",
            "\n"
          ]
        }
      ]
    },
    {
      "cell_type": "markdown",
      "source": [
        "Desarrolla un programa de gestión de ventas que almacena sus datos en un archivo .txt.\n",
        "Cada producto se guarda en una linea del archivo de la siguiente manera: [nombre_producto], [cantidad_vendida], [precio].\n",
        "\n",
        "Siguiendo ese formato, y mediante terminal, debe permitir añadir, consultar, actualizar, eliminar productos y salir.\n",
        "\n",
        "También debe poseer opciones para calcular la venta total y por producto.\n",
        "\n",
        "La opción salir borra el .txt."
      ],
      "metadata": {
        "id": "x3eoXGUNtqqR"
      }
    },
    {
      "cell_type": "code",
      "source": [
        "file_name = 'eze_o.txt'\n",
        "\n",
        "open(file_name, \"a\")\n",
        "\n",
        "while True:\n",
        "  print(\"1. Añadir producto\")\n",
        "  print(\"2. Consultar producto\")\n",
        "  print(\"3. Actualizar producto\")\n",
        "  print(\"4. Borrar producto\")\n",
        "  print(\"5. Mostrar productos\")\n",
        "  print(\"6. Calcular venta total\")\n",
        "  print(\"7. Calcular venta por producto\")\n",
        "  print(\"8. Salir\")\n",
        "\n",
        "  option = input(\"Selecciona una opción: \")\n",
        "\n",
        "  if option == \"1\":\n",
        "    name = input(\"Nombre: \")\n",
        "    cant = input(\"Cantidad: \")\n",
        "    price = input(\"Precio: \")\n",
        "    with open(file_name, \"a\") as file: # a de append para seguir añadiendo, porque write lo reescribe de cero\n",
        "      file.write(f'{name}, {cant}, {price}\\n')\n",
        "  elif option == '2':\n",
        "    name = input(\"Name: \")\n",
        "    with open(file_name, \"r\") as file:\n",
        "      '''\n",
        "      Itero sobre las lineas del fichero, uso split con el separador del archivo\n",
        "      que en este caso es coma y espacio, y selecciono el primer elemento que es el nombre.\n",
        "      Si coincide con el name que estoy buscando, imprime la linea completa\n",
        "      '''\n",
        "      for line in file.readlines():\n",
        "        if line.split(\", \")[0] == name:\n",
        "          print(line)\n",
        "          break\n",
        "  elif option == '3':\n",
        "    name = input(\"Nombre: \")\n",
        "    cant = input(\"Cantidad: \")\n",
        "    price = input(\"Precio: \")\n",
        "    with open(file_name, \"r\") as file:\n",
        "      lines = file.readlines()\n",
        "    with open(file_name, \"w\") as file:\n",
        "      for line in lines:\n",
        "        if line.split(\", \")[0] == name:\n",
        "          file.write(f'{name}, {cant}, {price}\\n')\n",
        "        else:\n",
        "          file.write(line)\n",
        "  elif option == '4':\n",
        "    name = input(\"Nombre: \")\n",
        "    with open(file_name, \"r\") as file:\n",
        "      lines = file.readlines()\n",
        "      with open(file_name, \"w\") as file:\n",
        "        for line in lines:\n",
        "          if line.split(\", \")[0] != name:\n",
        "            file.write(line)\n",
        "  elif option == '5':\n",
        "    with open(file_name, \"r\") as file:\n",
        "      print(file.read())\n",
        "  elif option == '6':\n",
        "    total = 0\n",
        "    with open(file_name, \"r\") as file:\n",
        "      for line in file.readlines():\n",
        "        components = line.split(\", \")\n",
        "        cant = int(components[1])\n",
        "        price = float(components[2])\n",
        "        total += cant * price\n",
        "    print(total)\n",
        "  elif option == '7':\n",
        "    name = input(\"Nombre: \")\n",
        "    total = 0\n",
        "    with open(file_name, \"r\") as file:\n",
        "      for line in file.readlines():\n",
        "        components = line.split(\", \")\n",
        "        if components[0] == name:\n",
        "          cant = int(components[1])\n",
        "          price = float(components[2])\n",
        "          total += cant * price\n",
        "          break\n",
        "    print(total)\n",
        "  elif option == '8':\n",
        "    os.remove(file_name)\n",
        "    print(\"Haz salido del programa y borrado el fichero\")\n",
        "    break\n",
        "  else:\n",
        "    print(\"Selecciona una opción válida: \")"
      ],
      "metadata": {
        "colab": {
          "base_uri": "https://localhost:8080/"
        },
        "id": "nhr-xFsRtHUR",
        "outputId": "fc9ec27e-8868-484d-9fb2-dbb2435327a3"
      },
      "execution_count": null,
      "outputs": [
        {
          "output_type": "stream",
          "name": "stdout",
          "text": [
            "1. Añadir producto\n",
            "2. Consultar producto\n",
            "3. Actualizar producto\n",
            "4. Borrar producto\n",
            "5. Mostrar productos\n",
            "6. Calcular venta total\n",
            "7. Calcular venta por producto\n",
            "8. Salir\n",
            "Selecciona una opción: 8\n",
            "Haz salido del programa y borrado el fichero\n"
          ]
        }
      ]
    },
    {
      "cell_type": "markdown",
      "source": [
        "# JSON y XML"
      ],
      "metadata": {
        "id": "ZyF-ZWX55-3W"
      }
    },
    {
      "cell_type": "code",
      "execution_count": null,
      "metadata": {
        "id": "Tcs1zPkLL_O2"
      },
      "outputs": [],
      "source": [
        "# Convertir datos en archivos xml y json\n",
        "\n",
        "import xml.etree.ElementTree as xml\n",
        "\n",
        "data = {\n",
        "    'name' : 'Eze',\n",
        "    'age' : '32',\n",
        "    'birth_date' : '17-07-1992',\n",
        "    'languages' : ['Python', 'Javascript']\n",
        "}\n",
        "\n",
        "xml_file = 'eze.xml'\n",
        "json_file = 'eze.json'"
      ]
    },
    {
      "cell_type": "code",
      "source": [
        "# Crear xml desde un diccionario\n",
        "def save_xml():\n",
        "  root = xml.Element(\"data\")\n",
        "\n",
        "  for key, value in data.items():\n",
        "    child = xml.SubElement(root, key)\n",
        "    if isinstance(value, list):\n",
        "      for item in value:\n",
        "        xml.SubElement(child, 'item').text = item\n",
        "    else:\n",
        "      child.text = str(value)\n",
        "\n",
        "  tree = xml.ElementTree(root)\n",
        "  tree.write(xml_file)\n",
        "\n",
        "save_xml()"
      ],
      "metadata": {
        "id": "G2_Ak-un_UVU"
      },
      "execution_count": null,
      "outputs": []
    },
    {
      "cell_type": "code",
      "source": [
        "with open(xml_file) as xml_data:\n",
        "  print(xml_data.read())"
      ],
      "metadata": {
        "colab": {
          "base_uri": "https://localhost:8080/"
        },
        "id": "1vgC6IhNBg3T",
        "outputId": "7ddc37d8-913f-4b7b-ba83-8b0892dc0b77"
      },
      "execution_count": null,
      "outputs": [
        {
          "output_type": "stream",
          "name": "stdout",
          "text": [
            "<data><name>Eze</name><age>32</age><birth_date>17-07-1992</birth_date><languages><item>Python</item><item>Javascript</item></languages></data>\n"
          ]
        }
      ]
    },
    {
      "cell_type": "code",
      "source": [
        "import os\n",
        "os.remove(xml_file)"
      ],
      "metadata": {
        "id": "tmvRRj90CVzU"
      },
      "execution_count": null,
      "outputs": []
    },
    {
      "cell_type": "code",
      "source": [
        "# Crear JSON desde diccionario\n",
        "import json\n",
        "\n",
        "with open(json_file, 'w') as json_data:\n",
        "  json.dump(data, json_data)"
      ],
      "metadata": {
        "id": "pVizoMGXCeYJ"
      },
      "execution_count": null,
      "outputs": []
    },
    {
      "cell_type": "code",
      "source": [
        "with open(json_file) as json_data:\n",
        "  print(json_data.read())\n",
        "\n",
        "# os.remove(json_file)"
      ],
      "metadata": {
        "colab": {
          "base_uri": "https://localhost:8080/"
        },
        "id": "l8Jx0zujC0RC",
        "outputId": "969403ec-2130-466c-9f43-8311f82d5b64"
      },
      "execution_count": null,
      "outputs": [
        {
          "output_type": "stream",
          "name": "stdout",
          "text": [
            "{\"name\": \"Eze\", \"age\": \"32\", \"birth_day\": \"17-07-1992\", \"languages\": [\"Python\", \"Javascript\"]}\n"
          ]
        }
      ]
    },
    {
      "cell_type": "markdown",
      "source": [
        "Leer y transformar XML y JSON"
      ],
      "metadata": {
        "id": "z25CGeidFwDt"
      }
    },
    {
      "cell_type": "code",
      "source": [
        "# Convertir datos desde un xml a un diccionario\n",
        "class Data:\n",
        "\n",
        "  def __init__(self, name, age, birth_date, languages) -> None:\n",
        "    self.name = name\n",
        "    self.age = age\n",
        "    self.birth_date = birth_date\n",
        "    self.languages = languages\n",
        "\n",
        "with open(xml_file, 'r') as xml_data:\n",
        "  root = xml.fromstring(xml_data.read())\n",
        "  name = root.find('name').text\n",
        "  age = root.find('age').text\n",
        "  birth_date = root.find('birth_date').text\n",
        "  languages = []\n",
        "  for item in root.find('languages'):\n",
        "    languages.append(item.text)\n",
        "\n",
        "  data_from_xml = Data(name, age, birth_date, languages)\n",
        "  print(data_from_xml.__dict__)"
      ],
      "metadata": {
        "id": "IgiyYmCKF-hS",
        "colab": {
          "base_uri": "https://localhost:8080/"
        },
        "outputId": "fbe88941-02dc-4a15-bc35-9cc94572d67c"
      },
      "execution_count": null,
      "outputs": [
        {
          "output_type": "stream",
          "name": "stdout",
          "text": [
            "{'name': 'Eze', 'age': '32', 'birth_date': '17-07-1992', 'languages': ['Python', 'Javascript']}\n"
          ]
        }
      ]
    },
    {
      "cell_type": "code",
      "source": [
        "# Convertir datos desde un JSON a un diccionario\n",
        "with open(json_file, 'r') as json_data:\n",
        "  json_dict = json.load(json_data) # Utilizo 'load' para que me devuelva un diccionario, porque el 'read' me devuelve un string\n",
        "  json_class = Data(\n",
        "      json_dict['name'],\n",
        "      json_dict['age'],\n",
        "      json_dict['birth_date'],\n",
        "      json_dict['languages'])\n",
        "  print(json_class.__dict__)"
      ],
      "metadata": {
        "colab": {
          "base_uri": "https://localhost:8080/"
        },
        "id": "cs5YxAVHC1-G",
        "outputId": "5ab72772-1322-487b-896b-f9a7869d03a3"
      },
      "execution_count": null,
      "outputs": [
        {
          "output_type": "stream",
          "name": "stdout",
          "text": [
            "{'name': 'Eze', 'age': '32', 'birth_date': '17-07-1992', 'languages': ['Python', 'Javascript']}\n"
          ]
        }
      ]
    },
    {
      "cell_type": "code",
      "source": [
        "# Eliminar ficheros\n",
        "\n",
        "import os\n",
        "\n",
        "os.remove(xml_file)\n",
        "os.remove(json_file)"
      ],
      "metadata": {
        "id": "Rdm-AWpXETZG"
      },
      "execution_count": null,
      "outputs": []
    },
    {
      "cell_type": "markdown",
      "source": [
        "# Pruebas unitarias"
      ],
      "metadata": {
        "id": "bESZ6D8wRjQT"
      }
    },
    {
      "cell_type": "code",
      "source": [
        "import unittest\n",
        "\n",
        "def sum(a, b):\n",
        "  if not isinstance(a, (int, float)) or not isinstance(b, (int, float)):\n",
        "    raise ValueError('Los argumentos deben ser enteros o decimales')\n",
        "  return a + b\n",
        "\n",
        "class TestSum(unittest.TestCase):\n",
        "  def test_sum(self):\n",
        "    self.assertEqual(sum(5,7), 12) # testea que algo sea igual a algo\n",
        "    self.assertEqual(sum(5,-7), -2)\n",
        "    self.assertEqual(sum(0,0), 0)\n",
        "    self.assertEqual(sum(2,2.1), 4.1)\n",
        "    self.assertEqual(sum(2.5,2.5), 5)\n",
        "\n",
        "  def test_sum_type(self):\n",
        "    with self.assertRaises(ValueError):\n",
        "      sum('5',7)\n",
        "    with self.assertRaises(ValueError):\n",
        "      sum(5,'7')\n",
        "    with self.assertRaises(ValueError):\n",
        "      sum('5','7')\n",
        "    with self.assertRaises(ValueError):\n",
        "      sum('a',7)\n",
        "    with self.assertRaises(ValueError):\n",
        "      sum(None,7)\n",
        "\n",
        "# unittest.main()\n",
        "if __name__ == '__main__':\n",
        "    unittest.main(argv=[''], exit=False) # Ejecuta todos los test definidos"
      ],
      "metadata": {
        "colab": {
          "base_uri": "https://localhost:8080/"
        },
        "id": "2rHqDDHkRnUj",
        "outputId": "79e8d120-d8ae-4d22-db47-3174ecca6f9c"
      },
      "execution_count": null,
      "outputs": [
        {
          "output_type": "stream",
          "name": "stderr",
          "text": [
            "..\n",
            "----------------------------------------------------------------------\n",
            "Ran 2 tests in 0.005s\n",
            "\n",
            "OK\n"
          ]
        }
      ]
    },
    {
      "cell_type": "code",
      "source": [
        "from datetime import datetime, date\n",
        "\n",
        "data = {\n",
        "    'name': 'Eze',\n",
        "    'age': 32,\n",
        "    'birth_date': datetime.strptime('17-07-92', '%d-%m-%y').date(),\n",
        "    'languages': ['Python', 'Javascript']\n",
        "}\n",
        "\n",
        "class TestData(unittest.TestCase):\n",
        "\n",
        "  def setUp(self)->None: # Añade contexto\n",
        "    self.data = {\n",
        "    'name': 'Eze',\n",
        "    'age': 32,\n",
        "    'birth_date': datetime.strptime('17-07-92', '%d-%m-%y').date(),\n",
        "    'languages': ['Python', 'Javascript']\n",
        "}\n",
        "\n",
        "  def test_fields_exist(self): # comprobar si existen los campos\n",
        "    self.assertIn('name', self.data)\n",
        "    self.assertIn('age', self.data)\n",
        "    self.assertIn('birth_date', self.data)\n",
        "    self.assertIn('languages', self.data)\n",
        "\n",
        "  def test_data_is_correct(self): # comprobar los tipos de datos que espero\n",
        "    self.assertIsInstance(self.data['name'], str)\n",
        "    self.assertIsInstance(self.data['age'], int)\n",
        "    self.assertIsInstance(self.data['birth_date'], date)\n",
        "    self.assertIsInstance(self.data['languages'], list)\n",
        "\n",
        "if __name__ == '__main__':\n",
        "    unittest.main(argv=[''], exit=False)"
      ],
      "metadata": {
        "colab": {
          "base_uri": "https://localhost:8080/"
        },
        "id": "pPcoXvRVXcol",
        "outputId": "cac7a8f1-ead5-4630-f632-5d7fcc5c3935"
      },
      "execution_count": null,
      "outputs": [
        {
          "output_type": "stream",
          "name": "stderr",
          "text": [
            "....\n",
            "----------------------------------------------------------------------\n",
            "Ran 4 tests in 0.009s\n",
            "\n",
            "OK\n"
          ]
        }
      ]
    },
    {
      "cell_type": "markdown",
      "source": [
        "# Fechas"
      ],
      "metadata": {
        "id": "N_pBJhVhay6l"
      }
    },
    {
      "cell_type": "markdown",
      "source": [
        "# 31:24"
      ],
      "metadata": {
        "id": "g6EZPirka0OS"
      }
    }
  ],
  "metadata": {
    "colab": {
      "provenance": [],
      "collapsed_sections": [
        "hqnVj5PLnkXT",
        "k0c7L0wVnpmQ",
        "rnsJi1OnJhXd",
        "MOVS0YsBL63a",
        "EgnccNT89S9u",
        "StjfWfeaMEKZ",
        "dJoCc4iWWe30",
        "7JL3_R9_Jd9o",
        "6mD8vjkpS0ET",
        "dO89yHGSVTyT",
        "kOHciWU3dWva",
        "45ymDzF6UIiD",
        "9WE2po4jbueM",
        "ZyF-ZWX55-3W"
      ]
    },
    "kernelspec": {
      "display_name": "Python 3",
      "name": "python3"
    },
    "language_info": {
      "name": "python"
    }
  },
  "nbformat": 4,
  "nbformat_minor": 0
}